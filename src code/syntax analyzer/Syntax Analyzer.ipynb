{
 "cells": [
  {
   "cell_type": "code",
   "execution_count": 1,
   "id": "little-trade",
   "metadata": {},
   "outputs": [
    {
     "name": "stderr",
     "output_type": "stream",
     "text": [
      "Using TensorFlow backend.\n"
     ]
    }
   ],
   "source": [
    "import torch\n",
    "from keras.preprocessing.sequence import pad_sequences\n",
    "from pytorch_pretrained_bert import BertTokenizer\n",
    "from pytorch_pretrained_bert import BertForSequenceClassification\n",
    "import pandas as pd\n",
    "import numpy as np\n",
    "import gc"
   ]
  },
  {
   "cell_type": "code",
   "execution_count": 2,
   "id": "promotional-italic",
   "metadata": {},
   "outputs": [],
   "source": [
    "device = \"cpu\"\n",
    "if torch.cuda.is_available():\n",
    "    torch.cuda.empty_cache()\n",
    "gc.collect()\n",
    "model = BertForSequenceClassification.from_pretrained(\"bert-base-uncased\", num_labels=2)\n",
    "#model = torch.load(\"models/bert-based-uncased.pth\")\n",
    "model.load_state_dict(torch.load('models/bert-based-uncased-GED.pth'))\n",
    "tokenizer = BertTokenizer.from_pretrained('bert-base-uncased',do_lower_case = True)\n",
    "#tokenizer = torch.load('models/bert-based-uncased.pth')"
   ]
  },
  {
   "cell_type": "code",
   "execution_count": 3,
   "id": "collect-elizabeth",
   "metadata": {},
   "outputs": [],
   "source": [
    "## input sentences\n",
    "#sentences = [\"The sun is shiny today as well as the roses\", \"I drinked water\", \"I will be there at time\"]\n",
    "sentences = [\"Hi, my name is Akshay. I am currently pursing masters from IIITB. My favourite subjects are Electronics and Computer Science\"]"
   ]
  },
  {
   "cell_type": "code",
   "execution_count": 4,
   "id": "superb-invasion",
   "metadata": {},
   "outputs": [],
   "source": [
    "model.eval()\n",
    "sentences = [\"[CLS] \" + sentence + \" [SEP]\" for sentence in sentences]\n",
    "labels =[0]\n",
    "\n",
    "tokenized_texts = [tokenizer.tokenize(sent) for sent in sentences]\n",
    "MAX_LEN = 128\n",
    "predictions = []\n",
    "true_labels = []\n",
    "input_ids = pad_sequences([tokenizer.convert_tokens_to_ids(txt) for txt in tokenized_texts],maxlen=MAX_LEN, dtype=\"long\", truncating=\"post\", padding=\"post\")\n",
    "input_ids = [tokenizer.convert_tokens_to_ids(x) for x in tokenized_texts]\n",
    "input_ids = pad_sequences(input_ids, maxlen=MAX_LEN,dtype =\"long\", truncating=\"post\",padding =\"post\")\n",
    "\n",
    "attention_masks = []\n",
    "for seq in input_ids:\n",
    "    seq_mask = [float(i > 0) for i in seq]\n",
    "    attention_masks.append(seq_mask)\n",
    "\n",
    "prediction_inputs = torch.tensor(input_ids)\n",
    "prediction_masks = torch.tensor(attention_masks)\n",
    "prediction_labels = torch.tensor(labels)\n",
    "model.eval()\n",
    "\n",
    "with torch.no_grad():\n",
    "    logits = model(prediction_inputs.to(device).long(), token_type_ids=None, attention_mask=prediction_masks.to(device).long())\n",
    "logits = logits.detach().cpu().numpy()\n",
    "predictions.append(logits)\n",
    "\n",
    "flat_predictions = [item for sublist in predictions for item in sublist]\n",
    "flat_predictions = np.argmax(flat_predictions, axis=1).flatten()\n",
    "flat_true_labels = [item for sublist in true_labels for item in sublist]"
   ]
  },
  {
   "cell_type": "code",
   "execution_count": 5,
   "id": "isolated-singapore",
   "metadata": {},
   "outputs": [
    {
     "data": {
      "text/plain": [
       "array([1], dtype=int64)"
      ]
     },
     "execution_count": 5,
     "metadata": {},
     "output_type": "execute_result"
    }
   ],
   "source": [
    "flat_predictions"
   ]
  },
  {
   "cell_type": "code",
   "execution_count": null,
   "id": "convinced-argument",
   "metadata": {},
   "outputs": [],
   "source": []
  }
 ],
 "metadata": {
  "kernelspec": {
   "display_name": "Python 3",
   "language": "python",
   "name": "python3"
  },
  "language_info": {
   "codemirror_mode": {
    "name": "ipython",
    "version": 3
   },
   "file_extension": ".py",
   "mimetype": "text/x-python",
   "name": "python",
   "nbconvert_exporter": "python",
   "pygments_lexer": "ipython3",
   "version": "3.7.3"
  }
 },
 "nbformat": 4,
 "nbformat_minor": 5
}
